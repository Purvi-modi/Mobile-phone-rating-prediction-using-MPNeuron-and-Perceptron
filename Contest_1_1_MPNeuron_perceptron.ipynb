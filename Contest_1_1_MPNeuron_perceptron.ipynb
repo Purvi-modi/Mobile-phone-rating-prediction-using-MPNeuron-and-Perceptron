{
  "nbformat": 4,
  "nbformat_minor": 0,
  "metadata": {
    "colab": {
      "name": "Contest_1_1_MPNeuron_perceptron.ipynb",
      "version": "0.3.2",
      "provenance": [],
      "collapsed_sections": [
        "79U3zcPEN0vP",
        "o1EsYuL8U-kT",
        "08aouy261-Lc",
        "j5Do8szw2np3",
        "HWoRxrdE7n0I",
        "dy5XDzn8-1lv"
      ],
      "toc_visible": true
    },
    "kernelspec": {
      "display_name": "Python 3",
      "language": "python",
      "name": "python3"
    }
  },
  "cells": [
    {
      "metadata": {
        "id": "NrXXYAMZUePD",
        "colab_type": "text"
      },
      "cell_type": "markdown",
      "source": [
        "# Import Libraries, data download"
      ]
    },
    {
      "metadata": {
        "id": "S12hDowuPGlZ",
        "colab_type": "code",
        "colab": {}
      },
      "cell_type": "code",
      "source": [
        "import numpy as np\n",
        "import pandas as pd\n",
        "import matplotlib.pyplot as plt\n",
        "from sklearn.preprocessing import LabelEncoder,MinMaxScaler, StandardScaler\n",
        "from sklearn.model_selection import train_test_split, ParameterGrid\n",
        "from sklearn.metrics import accuracy_score, confusion_matrix, mean_squared_error, log_loss\n",
        "import operator\n",
        "import json\n",
        "from IPython import display\n",
        "import os\n",
        "import warnings\n",
        "\n",
        "np.random.seed(0)\n",
        "warnings.filterwarnings(\"ignore\")\n",
        "THRESHOLD = 4"
      ],
      "execution_count": 0,
      "outputs": []
    },
    {
      "metadata": {
        "id": "_cldCuAZPGlz",
        "colab_type": "text"
      },
      "cell_type": "markdown",
      "source": [
        "Task: To predict whether the user likes the mobile phone or not. <br>\n",
        "Assumption: If the average rating of mobile >= threshold, then the user likes it, otherwise not."
      ]
    },
    {
      "metadata": {
        "id": "uisFZdHuPGl5",
        "colab_type": "text"
      },
      "cell_type": "markdown",
      "source": [
        "<b>Missing values:</b><br>\n",
        "'Also Known As'(459),'Applications'(421),'Audio Features'(437),'Bezel-less display'(266),'Browser'(449),'Build Material'(338),'Co-Processor'(451),'Display Colour'(457),'Mobile High-Definition Link(MHL)'(472),'Music'(447)\n",
        "'Email','Fingerprint Sensor Position'(174),'Games'(446),'HDMI'(454),'Heart Rate Monitor'(467),'IRIS Scanner'(467),\n",
        "'Optical Image Stabilisation'(219),'Other Facilities'(444),'Phone Book'(444),'Physical Aperture'(87),'Quick Charging'(122),'Ring Tone'(444),'Ruggedness'(430),SAR Value(315),'SIM 3'(472),'SMS'(470)', 'Screen Protection'(229),'Screen to Body Ratio (claimed by the brand)'(428),'Sensor'(242),'Software Based Aperture'(473),\n",
        "'Special Features'(459),'Standby time'(334),'Stylus'(473),'TalkTime'(259), 'USB Type-C'(374),'Video Player'(456),\n",
        "'Video Recording Features'(458),'Waterproof'(398),'Wireless Charging','USB OTG Support'(159), 'Video ,'Recording'(113),'Java'(471),'Browser'(448)\n",
        "\n",
        "<b>Very low variance:</b><br>\n",
        "'Architecture'(most entries are 64-bit),'Audio Jack','GPS','Loudspeaker','Network','Network Support','Other Sensors'(28),'SIM Size', 'VoLTE'\n",
        "\n",
        "\n",
        "<b>Multivalued:</b><br>\n",
        "'Colours','Custom UI','Model'(1),'Other Sensors','Launch Date'\n",
        "\n",
        "<b>Not important:</b><br>\n",
        "'Bluetooth', 'Settings'(75),'Wi-Fi','Wi-Fi Features'\n",
        "\n",
        "<b>Doubtful:</b><br>\n",
        "'Aspect Ratio','Autofocus','Brand','Camera Features','Fingerprint Sensor'(very few entries are missing),\n",
        "'Fingerprint Sensor Position', 'Graphics'(multivalued),'Image resolution'(multivalued),'SIM Size','Sim Slot(s)', 'User Available Storage', 'SIM 1', 'SIM 2','Shooting Modes', 'Touch Screen'(24), 'USB Connectivity'\n",
        "    \n",
        "<b>To check:</b><br>\n",
        "'Display Type','Expandable Memory','FM Radio'\n",
        "\n",
        "<b>High Correlation with other features</b><br>\n",
        "'SIM Slot(s)' high correlation with SIM1\n",
        "'Weight' has high high correlation with capacity , screen-to-body ratio\n",
        "'Height' - screen size is also there\n",
        "    \n",
        "<b>Given a mobile, we can't directly get these features</b><br>\n",
        "'Rating Count', 'Review Count'\n",
        "\n",
        "<b>Keeping:</b><br>\n",
        "'Capacity','Flash'(17),'Height'(22),'Internal Memory'(20, require cleaning),'Operating System'(25, require cleaning), 'Pixel Density'(1, clean it),'Processor'(22, clean it), 'RAM'(17, clean), 'Rating','Resolution'(cleaning), 'Screen Resolution','Screen Size', 'Thickness'(22), 'Type','User Replaceable','Weight'(cleaning),'Sim Size'(), 'Other Sensors'(28), 'Screen to Body Ratio (calculated)','Width',\n"
      ]
    },
    {
      "metadata": {
        "id": "zXDC60KiUGDo",
        "colab_type": "code",
        "outputId": "b919ff35-c14c-4053-f25b-532cc97b8d4e",
        "colab": {
          "base_uri": "https://localhost:8080/",
          "height": 52
        }
      },
      "cell_type": "code",
      "source": [
        "# Install the PyDrive wrapper & import libraries.\n",
        "# This only needs to be done once per notebook.\n",
        "!pip install -U -q PyDrive\n",
        "from pydrive.auth import GoogleAuth\n",
        "from pydrive.drive import GoogleDrive\n",
        "from google.colab import auth\n",
        "from oauth2client.client import GoogleCredentials\n",
        "\n",
        "# Authenticate and create the PyDrive client.\n",
        "# This only needs to be done once per notebook.\n",
        "auth.authenticate_user()\n",
        "gauth = GoogleAuth()\n",
        "gauth.credentials = GoogleCredentials.get_application_default()\n",
        "drive = GoogleDrive(gauth)\n"
      ],
      "execution_count": 0,
      "outputs": [
        {
          "output_type": "stream",
          "text": [
            "\u001b[?25l\r\u001b[K    1% |▎                               | 10kB 21.1MB/s eta 0:00:01\r\u001b[K    2% |▋                               | 20kB 1.9MB/s eta 0:00:01\r\u001b[K    3% |█                               | 30kB 2.7MB/s eta 0:00:01\r\u001b[K    4% |█▎                              | 40kB 1.8MB/s eta 0:00:01\r\u001b[K    5% |█▋                              | 51kB 2.2MB/s eta 0:00:01\r\u001b[K    6% |██                              | 61kB 2.7MB/s eta 0:00:01\r\u001b[K    7% |██▎                             | 71kB 3.1MB/s eta 0:00:01\r\u001b[K    8% |██▋                             | 81kB 3.5MB/s eta 0:00:01\r\u001b[K    9% |███                             | 92kB 3.9MB/s eta 0:00:01\r\u001b[K    10% |███▎                            | 102kB 3.0MB/s eta 0:00:01\r\u001b[K    11% |███▋                            | 112kB 3.0MB/s eta 0:00:01\r\u001b[K    12% |████                            | 122kB 4.2MB/s eta 0:00:01\r\u001b[K    13% |████▎                           | 133kB 4.2MB/s eta 0:00:01\r\u001b[K    14% |████▋                           | 143kB 7.9MB/s eta 0:00:01\r\u001b[K    15% |█████                           | 153kB 8.0MB/s eta 0:00:01\r\u001b[K    16% |█████▎                          | 163kB 8.0MB/s eta 0:00:01\r\u001b[K    17% |█████▋                          | 174kB 7.8MB/s eta 0:00:01\r\u001b[K    18% |██████                          | 184kB 7.8MB/s eta 0:00:01\r\u001b[K    19% |██████▎                         | 194kB 7.8MB/s eta 0:00:01\r\u001b[K    20% |██████▋                         | 204kB 42.1MB/s eta 0:00:01\r\u001b[K    21% |███████                         | 215kB 9.0MB/s eta 0:00:01\r\u001b[K    22% |███████▎                        | 225kB 9.0MB/s eta 0:00:01\r\u001b[K    23% |███████▋                        | 235kB 9.2MB/s eta 0:00:01\r\u001b[K    24% |████████                        | 245kB 9.2MB/s eta 0:00:01\r\u001b[K    25% |████████▎                       | 256kB 9.2MB/s eta 0:00:01\r\u001b[K    26% |████████▋                       | 266kB 8.9MB/s eta 0:00:01\r\u001b[K    27% |█████████                       | 276kB 9.1MB/s eta 0:00:01\r\u001b[K    29% |█████████▎                      | 286kB 9.1MB/s eta 0:00:01\r\u001b[K    30% |█████████▋                      | 296kB 9.1MB/s eta 0:00:01\r\u001b[K    31% |██████████                      | 307kB 9.3MB/s eta 0:00:01\r\u001b[K    32% |██████████▎                     | 317kB 53.2MB/s eta 0:00:01\r\u001b[K    33% |██████████▋                     | 327kB 54.4MB/s eta 0:00:01\r\u001b[K    34% |███████████                     | 337kB 54.8MB/s eta 0:00:01\r\u001b[K    35% |███████████▎                    | 348kB 47.6MB/s eta 0:00:01\r\u001b[K    36% |███████████▋                    | 358kB 48.3MB/s eta 0:00:01\r\u001b[K    37% |████████████                    | 368kB 58.8MB/s eta 0:00:01\r\u001b[K    38% |████████████▎                   | 378kB 9.6MB/s eta 0:00:01\r\u001b[K    39% |████████████▋                   | 389kB 9.6MB/s eta 0:00:01\r\u001b[K    40% |█████████████                   | 399kB 9.6MB/s eta 0:00:01\r\u001b[K    41% |█████████████▎                  | 409kB 9.5MB/s eta 0:00:01\r\u001b[K    42% |█████████████▋                  | 419kB 9.5MB/s eta 0:00:01\r\u001b[K    43% |██████████████                  | 430kB 9.5MB/s eta 0:00:01\r\u001b[K    44% |██████████████▎                 | 440kB 9.5MB/s eta 0:00:01\r\u001b[K    45% |██████████████▋                 | 450kB 9.6MB/s eta 0:00:01\r\u001b[K    46% |███████████████                 | 460kB 9.5MB/s eta 0:00:01\r\u001b[K    47% |███████████████▎                | 471kB 9.5MB/s eta 0:00:01\r\u001b[K    48% |███████████████▋                | 481kB 56.5MB/s eta 0:00:01\r\u001b[K    49% |████████████████                | 491kB 57.6MB/s eta 0:00:01\r\u001b[K    50% |████████████████▎               | 501kB 59.0MB/s eta 0:00:01\r\u001b[K    51% |████████████████▋               | 512kB 56.4MB/s eta 0:00:01\r\u001b[K    52% |█████████████████               | 522kB 55.8MB/s eta 0:00:01\r\u001b[K    53% |█████████████████▎              | 532kB 57.2MB/s eta 0:00:01\r\u001b[K    54% |█████████████████▋              | 542kB 57.2MB/s eta 0:00:01\r\u001b[K    55% |██████████████████              | 552kB 63.5MB/s eta 0:00:01\r\u001b[K    57% |██████████████████▎             | 563kB 69.1MB/s eta 0:00:01\r\u001b[K    58% |██████████████████▋             | 573kB 68.9MB/s eta 0:00:01\r\u001b[K    59% |███████████████████             | 583kB 69.3MB/s eta 0:00:01\r\u001b[K    60% |███████████████████▎            | 593kB 69.4MB/s eta 0:00:01\r\u001b[K    61% |███████████████████▋            | 604kB 68.0MB/s eta 0:00:01\r\u001b[K    62% |████████████████████            | 614kB 76.5MB/s eta 0:00:01\r\u001b[K    63% |████████████████████▎           | 624kB 79.7MB/s eta 0:00:01\r\u001b[K    64% |████████████████████▋           | 634kB 79.5MB/s eta 0:00:01\r\u001b[K    65% |█████████████████████           | 645kB 80.3MB/s eta 0:00:01\r\u001b[K    66% |█████████████████████▎          | 655kB 80.1MB/s eta 0:00:01\r\u001b[K    67% |█████████████████████▋          | 665kB 55.1MB/s eta 0:00:01\r\u001b[K    68% |██████████████████████          | 675kB 54.2MB/s eta 0:00:01\r\u001b[K    69% |██████████████████████▎         | 686kB 53.9MB/s eta 0:00:01\r\u001b[K    70% |██████████████████████▋         | 696kB 54.9MB/s eta 0:00:01\r\u001b[K    71% |███████████████████████         | 706kB 55.0MB/s eta 0:00:01\r\u001b[K    72% |███████████████████████▎        | 716kB 54.0MB/s eta 0:00:01\r\u001b[K    73% |███████████████████████▋        | 727kB 54.1MB/s eta 0:00:01\r\u001b[K    74% |████████████████████████        | 737kB 54.3MB/s eta 0:00:01\r\u001b[K    75% |████████████████████████▎       | 747kB 54.4MB/s eta 0:00:01\r\u001b[K    76% |████████████████████████▋       | 757kB 13.2MB/s eta 0:00:01\r\u001b[K    77% |████████████████████████▉       | 768kB 14.0MB/s eta 0:00:01\r\u001b[K    78% |█████████████████████████▏      | 778kB 14.0MB/s eta 0:00:01\r\u001b[K    79% |█████████████████████████▌      | 788kB 13.9MB/s eta 0:00:01\r\u001b[K    80% |█████████████████████████▉      | 798kB 13.8MB/s eta 0:00:01\r\u001b[K    81% |██████████████████████████▏     | 808kB 13.8MB/s eta 0:00:01\r\u001b[K    82% |██████████████████████████▌     | 819kB 13.8MB/s eta 0:00:01\r\u001b[K    83% |██████████████████████████▉     | 829kB 13.8MB/s eta 0:00:01\r\u001b[K    85% |███████████████████████████▏    | 839kB 13.8MB/s eta 0:00:01\r\u001b[K    86% |███████████████████████████▌    | 849kB 13.7MB/s eta 0:00:01\r\u001b[K    87% |███████████████████████████▉    | 860kB 57.2MB/s eta 0:00:01\r\u001b[K    88% |████████████████████████████▏   | 870kB 60.0MB/s eta 0:00:01\r\u001b[K    89% |████████████████████████████▌   | 880kB 61.1MB/s eta 0:00:01\r\u001b[K    90% |████████████████████████████▉   | 890kB 64.0MB/s eta 0:00:01\r\u001b[K    91% |█████████████████████████████▏  | 901kB 65.3MB/s eta 0:00:01\r\u001b[K    92% |█████████████████████████████▌  | 911kB 65.6MB/s eta 0:00:01\r\u001b[K    93% |█████████████████████████████▉  | 921kB 65.3MB/s eta 0:00:01\r\u001b[K    94% |██████████████████████████████▏ | 931kB 65.2MB/s eta 0:00:01\r\u001b[K    95% |██████████████████████████████▌ | 942kB 66.1MB/s eta 0:00:01\r\u001b[K    96% |██████████████████████████████▉ | 952kB 67.1MB/s eta 0:00:01\r\u001b[K    97% |███████████████████████████████▏| 962kB 77.8MB/s eta 0:00:01\r\u001b[K    98% |███████████████████████████████▌| 972kB 81.3MB/s eta 0:00:01\r\u001b[K    99% |███████████████████████████████▉| 983kB 82.0MB/s eta 0:00:01\r\u001b[K    100% |████████████████████████████████| 993kB 15.4MB/s \n",
            "\u001b[?25h  Building wheel for PyDrive (setup.py) ... \u001b[?25ldone\n",
            "\u001b[?25h"
          ],
          "name": "stdout"
        }
      ]
    },
    {
      "metadata": {
        "id": "hPKkNFXTUKXJ",
        "colab_type": "code",
        "colab": {}
      },
      "cell_type": "code",
      "source": [
        "\n",
        "# Download a file based on its file ID.\n",
        "#\n",
        "# A file ID looks like: laggVyWshwcyP6kEI-y_W3P8D26sz\n",
        "file_id = '1dzVSrZh-wLA1-k8k7f54_6rr9oZuThOG'\n",
        "downloaded = drive.CreateFile({'id': file_id})    #https://drive.google.com/open?id=1dzVSrZh-wLA1-k8k7f54_6rr9oZuThOG\n",
        "print('Downloaded content \"{}\"'.format(downloaded.GetContentString()))"
      ],
      "execution_count": 0,
      "outputs": []
    },
    {
      "metadata": {
        "id": "aYrjGeIUU1bJ",
        "colab_type": "code",
        "colab": {}
      },
      "cell_type": "code",
      "source": [
        "downloaded.GetContentFile('train_local.csv')"
      ],
      "execution_count": 0,
      "outputs": []
    },
    {
      "metadata": {
        "id": "j_XnUg7cVf0X",
        "colab_type": "code",
        "colab": {}
      },
      "cell_type": "code",
      "source": [
        "\n",
        "# Download a file based on its file ID.\n",
        "#\n",
        "# A file ID looks like: laggVyWshwcyP6kEI-y_W3P8D26sz\n",
        "file_id = '1AojWxQ85ZgMGBC4JdSO5gTjiQT6uVqYg'   #https://drive.google.com/open?id=1AojWxQ85ZgMGBC4JdSO5gTjiQT6uVqYg\n",
        "downloaded = drive.CreateFile({'id': file_id})    #https://drive.google.com/open?id=1dzVSrZh-wLA1-k8k7f54_6rr9oZuThOG\n",
        "print('Downloaded content \"{}\"'.format(downloaded.GetContentString()))"
      ],
      "execution_count": 0,
      "outputs": []
    },
    {
      "metadata": {
        "id": "-FhvIqeEVthh",
        "colab_type": "code",
        "colab": {}
      },
      "cell_type": "code",
      "source": [
        "downloaded.GetContentFile('test_local.csv')"
      ],
      "execution_count": 0,
      "outputs": []
    },
    {
      "metadata": {
        "id": "AoX8QhtAPGl_",
        "colab_type": "code",
        "outputId": "10e9d107-404e-412f-837e-483d8c255b0d",
        "colab": {
          "base_uri": "https://localhost:8080/",
          "height": 86
        }
      },
      "cell_type": "code",
      "source": [
        "# read data from file\n",
        "#train = pd.read_csv(\"../input/train.csv\") \n",
        "#test = pd.read_csv(\"../input/test.csv\")\n",
        "\n",
        "train = pd.read_csv(\"train_local.csv\")\n",
        "test = pd.read_csv(\"test_local.csv\")\n",
        "\n",
        "# check the number of features and data points in train\n",
        "print(\"Number of data points in train: %d\" % train.shape[0])\n",
        "print(\"Number of features in train: %d\" % train.shape[1])\n",
        "\n",
        "# check the number of features and data points in test\n",
        "print(\"Number of data points in test: %d\" % test.shape[0])\n",
        "print(\"Number of features in test: %d\" % test.shape[1])"
      ],
      "execution_count": 0,
      "outputs": [
        {
          "output_type": "stream",
          "text": [
            "Number of data points in train: 355\n",
            "Number of features in train: 99\n",
            "Number of data points in test: 119\n",
            "Number of features in test: 98\n"
          ],
          "name": "stdout"
        }
      ]
    },
    {
      "metadata": {
        "id": "-y8fza9hPGmf",
        "colab_type": "code",
        "colab": {}
      },
      "cell_type": "code",
      "source": [
        "def data_clean(data):\n",
        "    \n",
        "    # Let's first remove all missing value features\n",
        "    columns_to_remove = ['Also Known As','Applications','Audio Features','Bezel-less display'\n",
        "                         'Browser','Build Material','Co-Processor','Browser'\n",
        "                         'Display Colour','Mobile High-Definition Link(MHL)',\n",
        "                         'Music', 'Email','Fingerprint Sensor Position',\n",
        "                         'Games','HDMI','Heart Rate Monitor','IRIS Scanner', \n",
        "                         'Optical Image Stabilisation','Other Facilities',\n",
        "                         'Phone Book','Physical Aperture','Quick Charging',\n",
        "                         'Ring Tone','Ruggedness','SAR Value','SIM 3','SMS',\n",
        "                         'Screen Protection','Screen to Body Ratio (claimed by the brand)',\n",
        "                         'Sensor','Software Based Aperture', 'Special Features',\n",
        "                         'Standby time','Stylus','TalkTime', 'USB Type-C',\n",
        "                         'Video Player', 'Video Recording Features','Waterproof',\n",
        "                         'Wireless Charging','USB OTG Support', 'Video Recording','Java']\n",
        "\n",
        "    columns_to_retain = list(set(data.columns)-set(columns_to_remove))\n",
        "    data = data[columns_to_retain]\n",
        "\n",
        "    #Features having very low variance \n",
        "    columns_to_remove = ['Architecture','Audio Jack','GPS','Loudspeaker','Network','Network Support','VoLTE']\n",
        "    columns_to_retain = list(set(data.columns)-set(columns_to_remove))\n",
        "    data = data[columns_to_retain]\n",
        "\n",
        "    # Multivalued:\n",
        "    columns_to_remove = ['Architecture','Launch Date','Audio Jack','GPS','Loudspeaker','Network','Network Support','VoLTE', 'Custom UI']\n",
        "    columns_to_retain = list(set(data.columns)-set(columns_to_remove))\n",
        "    data = data[columns_to_retain]\n",
        "\n",
        "    # Not much important\n",
        "    columns_to_remove = ['Bluetooth', 'Settings','Wi-Fi','Wi-Fi Features']\n",
        "    columns_to_retain = list(set(data.columns)-set(columns_to_remove))\n",
        "    data = data[columns_to_retain]\n",
        "    \n",
        "    return data"
      ],
      "execution_count": 0,
      "outputs": []
    },
    {
      "metadata": {
        "id": "fcMrJ_8ZPGms",
        "colab_type": "text"
      },
      "cell_type": "markdown",
      "source": [
        "# Removing features"
      ]
    },
    {
      "metadata": {
        "id": "nYVNOINbPGmx",
        "colab_type": "code",
        "colab": {}
      },
      "cell_type": "code",
      "source": [
        "train = data_clean(train)\n",
        "test = data_clean(test)"
      ],
      "execution_count": 0,
      "outputs": []
    },
    {
      "metadata": {
        "id": "DzxJURUxPGm6",
        "colab_type": "text"
      },
      "cell_type": "markdown",
      "source": [
        "removing all those data points in which more than 15 features are missing "
      ]
    },
    {
      "metadata": {
        "id": "rAe49rWPPGm_",
        "colab_type": "code",
        "colab": {}
      },
      "cell_type": "code",
      "source": [
        "train = train[(train.isnull().sum(axis=1) <= 15)]\n",
        "# You shouldn't remove data points from test set\n",
        "#test = test[(test.isnull().sum(axis=1) <= 15)]"
      ],
      "execution_count": 0,
      "outputs": []
    },
    {
      "metadata": {
        "id": "MMITlKSUPGnO",
        "colab_type": "code",
        "outputId": "aee57753-2fef-429b-a6ed-dab0b7240e85",
        "colab": {
          "base_uri": "https://localhost:8080/",
          "height": 86
        }
      },
      "cell_type": "code",
      "source": [
        "# check the number of features and data points in train\n",
        "print(\"Number of data points in train: %d\" % train.shape[0])\n",
        "print(\"Number of features in train: %d\" % train.shape[1])\n",
        "\n",
        "# check the number of features and data points in test\n",
        "print(\"Number of data points in test: %d\" % test.shape[0])\n",
        "print(\"Number of features in test: %d\" % test.shape[1])"
      ],
      "execution_count": 0,
      "outputs": [
        {
          "output_type": "stream",
          "text": [
            "Number of data points in train: 341\n",
            "Number of features in train: 47\n",
            "Number of data points in test: 119\n",
            "Number of features in test: 46\n"
          ],
          "name": "stdout"
        }
      ]
    },
    {
      "metadata": {
        "id": "yaYRwLVDhcuy",
        "colab_type": "code",
        "outputId": "21aeacec-aa3d-4a64-9c2a-86d558810346",
        "colab": {
          "base_uri": "https://localhost:8080/",
          "height": 72
        }
      },
      "cell_type": "code",
      "source": [
        "print(train.shape)\n",
        "print(list(train.columns.values))\n",
        "#['Display Type', 'RAM', 'Screen Size', 'Weight', 'SIM Size', 'NFC', 'Model', 'PhoneId', 'SIM 1', 'Touch Screen', 'Fingerprint Sensor', 'Display Colour', 'Browser', 'SIM 2', 'USB Connectivity', 'Capacity', 'Brand', 'Expandable Memory', 'Other Sensors', 'Rating Count', 'Internal Memory', 'Shooting Modes', 'Height', 'Screen to Body Ratio (calculated)', 'Image Resolution', 'Type', 'Bezel-less display', 'Camera Features', 'Pixel Density', 'Resolution', 'Colours', 'Flash', 'User Replaceable', 'Operating System', 'Autofocus', 'Aspect Ratio', 'Screen Resolution', 'Thickness', 'FM Radio', 'Processor', 'SIM Slot(s)', 'Chipset', 'Review Count', 'Width', 'Graphics', 'User Available Storage']"
      ],
      "execution_count": 0,
      "outputs": [
        {
          "output_type": "stream",
          "text": [
            "(355, 47)\n",
            "['SIM 2', 'Touch Screen', 'Capacity', 'NFC', 'Fingerprint Sensor', 'SIM Size', 'Other Sensors', 'Screen Resolution', 'Model', 'Camera Features', 'Internal Memory', 'User Available Storage', 'Bezel-less display', 'Thickness', 'Height', 'Colours', 'Browser', 'Screen to Body Ratio (calculated)', 'SIM Slot(s)', 'FM Radio', 'Expandable Memory', 'RAM', 'Shooting Modes', 'Weight', 'Operating System', 'Image Resolution', 'Type', 'Autofocus', 'User Replaceable', 'Pixel Density', 'Rating Count', 'Display Type', 'Flash', 'Width', 'SIM 1', 'Aspect Ratio', 'Processor', 'Brand', 'Resolution', 'Rating', 'Review Count', 'Chipset', 'USB Connectivity', 'Display Colour', 'PhoneId', 'Graphics', 'Screen Size']\n"
          ],
          "name": "stdout"
        }
      ]
    },
    {
      "metadata": {
        "id": "0cf3wyX7PGnk",
        "colab_type": "text"
      },
      "cell_type": "markdown",
      "source": [
        "# Filling Missing values  (data preprocessing)\n"
      ]
    },
    {
      "metadata": {
        "id": "XiALhqrCPGnq",
        "colab_type": "code",
        "colab": {}
      },
      "cell_type": "code",
      "source": [
        "def for_integer(test):\n",
        "    try:\n",
        "        test = test.strip()       #removes leading and trailing whitespaces\n",
        "        return int(test.split(' ')[0])\n",
        "    except IOError:\n",
        "           pass\n",
        "    except ValueError:\n",
        "        pass\n",
        "    except:\n",
        "        pass\n",
        "\n",
        "def for_string(test):\n",
        "    try:\n",
        "        test = test.strip()\n",
        "        return (test.split(' ')[0])\n",
        "    except IOError:\n",
        "        pass\n",
        "    except ValueError:\n",
        "        pass\n",
        "    except:\n",
        "        pass\n",
        "\n",
        "def for_float(test):\n",
        "    try:\n",
        "        test = test.strip()\n",
        "        return float(test.split(' ')[0])\n",
        "    except IOError:\n",
        "        pass\n",
        "    except ValueError:\n",
        "        pass\n",
        "    except:\n",
        "        pass\n",
        "def find_freq(test):\n",
        "    try:\n",
        "        test = test.strip()\n",
        "        test = test.split(' ')\n",
        "        if test[2][0] == '(':\n",
        "            return float(test[2][1:])\n",
        "        return float(test[2])\n",
        "    except IOError:\n",
        "        pass\n",
        "    except ValueError:\n",
        "        pass\n",
        "    except:\n",
        "        pass\n",
        "\n",
        "    \n",
        "def for_Internal_Memory(test):\n",
        "    try:\n",
        "        test = test.strip()\n",
        "        test = test.split(' ')\n",
        "        if test[1] == 'GB':\n",
        "            return int(test[0])\n",
        "        if test[1] == 'MB':\n",
        "#             print(\"here\")\n",
        "            return (int(test[0]) * 0.001)\n",
        "    except IOError:\n",
        "           pass\n",
        "    except ValueError:\n",
        "        pass\n",
        "    except:\n",
        "        pass\n",
        "    \n",
        "def find_freq(test):\n",
        "    try:\n",
        "        test = test.strip()\n",
        "        test = test.split(' ')\n",
        "        if test[2][0] == '(':\n",
        "            return float(test[2][1:])   #   Octa core, 1.8 GHz, Cortex A53 Average ▾Proces...\n",
        "        return float(test[2])\n",
        "    except IOError:\n",
        "        pass\n",
        "    except ValueError:\n",
        "        pass\n",
        "    except:\n",
        "        pass\n"
      ],
      "execution_count": 0,
      "outputs": []
    },
    {
      "metadata": {
        "id": "6Slh6KZJPGoH",
        "colab_type": "code",
        "colab": {}
      },
      "cell_type": "code",
      "source": [
        "def data_clean_2(x):\n",
        "    data = x.copy()\n",
        "    \n",
        "    data['Capacity'] = data['Capacity'].apply(for_integer)    #Pandas.apply allow the users to pass a function and apply it on every single value of the Pandas series. It comes as a huge improvement for the pandas library as this function helps to segregate data according to the conditions required due to which it is efficiently used in data science and machine learning.\n",
        "\n",
        "    data['Height'] = data['Height'].apply(for_float)\n",
        "    data['Height'] = data['Height'].fillna(data['Height'].mean())\n",
        "\n",
        "    data['Internal Memory'] = data['Internal Memory'].apply(for_Internal_Memory)\n",
        "\n",
        "    data['Pixel Density'] = data['Pixel Density'].apply(for_integer)\n",
        "\n",
        "    data['Internal Memory'] = data['Internal Memory'].fillna(data['Internal Memory'].median())\n",
        "    data['Internal Memory'] = data['Internal Memory'].astype(int)\n",
        "\n",
        "    data['RAM'] = data['RAM'].apply(for_integer)\n",
        "    data['RAM'] = data['RAM'].fillna(data['RAM'].median())\n",
        "    data['RAM'] = data['RAM'].astype(int)\n",
        "\n",
        "    data['Resolution'] = data['Resolution'].apply(for_integer)\n",
        "    data['Resolution'] = data['Resolution'].fillna(data['Resolution'].median())\n",
        "    data['Resolution'] = data['Resolution'].astype(int)\n",
        "\n",
        "    data['Screen Size'] = data['Screen Size'].apply(for_float)\n",
        "\n",
        "    data['Thickness'] = data['Thickness'].apply(for_float)\n",
        "    data['Thickness'] = data['Thickness'].fillna(data['Thickness'].mean())\n",
        "    data['Thickness'] = data['Thickness'].round(2)\n",
        "\n",
        "    data['Type'] = data['Type'].fillna('Li-Polymer')\n",
        "\n",
        "    data['Screen to Body Ratio (calculated)'] = data['Screen to Body Ratio (calculated)'].apply(for_float)\n",
        "    data['Screen to Body Ratio (calculated)'] = data['Screen to Body Ratio (calculated)'].fillna(data['Screen to Body Ratio (calculated)'].mean())\n",
        "    data['Screen to Body Ratio (calculated)'] = data['Screen to Body Ratio (calculated)'].round(2)\n",
        "\n",
        "    data['Width'] = data['Width'].apply(for_float)\n",
        "    data['Width'] = data['Width'].fillna(data['Width'].mean())\n",
        "    data['Width'] = data['Width'].round(2)\n",
        "\n",
        "    data['Flash'][data['Flash'].isna() == True] = \"Other\"\n",
        "\n",
        "    data['User Replaceable'][data['User Replaceable'].isna() == True] = \"Other\"\n",
        "\n",
        "    data['Num_cores'] = data['Processor'].apply(for_string)\n",
        "    data['Num_cores'][data['Num_cores'].isna() == True] = \"Other\"\n",
        "\n",
        "\n",
        "    data['Processor_frequency'] = data['Processor'].apply(find_freq)\n",
        "    #because there is one entry with 208MHz values, to convert it to GHz\n",
        "    data['Processor_frequency'][data['Processor_frequency'] > 200] = 0.208\n",
        "    data['Processor_frequency'] = data['Processor_frequency'].fillna(data['Processor_frequency'].mean())\n",
        "    data['Processor_frequency'] = data['Processor_frequency'].round(2)\n",
        "\n",
        "    data['Camera Features'][data['Camera Features'].isna() == True] = \"Other\"\n",
        "\n",
        "    #simplifyig Operating System to os_name for simplicity\n",
        "    data['os_name'] = data['Operating System'].apply(for_string)\n",
        "    data['os_name'][data['os_name'].isna() == True] = \"Other\"\n",
        "\n",
        "    data['Sim1'] = data['SIM 1'].apply(for_string)\n",
        "\n",
        "    data['SIM Size'][data['SIM Size'].isna() == True] = \"Other\"\n",
        "\n",
        "    data['Image Resolution'][data['Image Resolution'].isna() == True] = \"Other\"\n",
        "\n",
        "    data['Fingerprint Sensor'][data['Fingerprint Sensor'].isna() == True] = \"Other\"\n",
        "\n",
        "    data['Expandable Memory'][data['Expandable Memory'].isna() == True] = \"No\"\n",
        "\n",
        "    data['Weight'] = data['Weight'].apply(for_integer)\n",
        "    data['Weight'] = data['Weight'].fillna(data['Weight'].mean())\n",
        "    data['Weight'] = data['Weight'].astype(int)\n",
        "\n",
        "    data['SIM 2'] = data['SIM 2'].apply(for_string)\n",
        "    data['SIM 2'][data['SIM 2'].isna() == True] = \"Other\"\n",
        "    \n",
        "    return data"
      ],
      "execution_count": 0,
      "outputs": []
    },
    {
      "metadata": {
        "id": "U1LdE5ZiPGoS",
        "colab_type": "code",
        "outputId": "b70e4c76-a7df-44ba-b578-5f8f97803612",
        "colab": {
          "base_uri": "https://localhost:8080/",
          "height": 86
        }
      },
      "cell_type": "code",
      "source": [
        "#print(train['Capacity'])      0      4000 mAh\n",
        "train = data_clean_2(train)\n",
        "#print(train['Capacity'])     0      4000\n",
        "test = data_clean_2(test)\n",
        "\n",
        "# check the number of features and data points in train\n",
        "print(\"Number of data points in train: %d\" % train.shape[0])\n",
        "print(\"Number of features in train: %d\" % train.shape[1])\n",
        "\n",
        "# check the number of features and data points in test\n",
        "print(\"Number of data points in test: %d\" % test.shape[0])\n",
        "print(\"Number of features in test: %d\" % test.shape[1])"
      ],
      "execution_count": 0,
      "outputs": [
        {
          "output_type": "stream",
          "text": [
            "Number of data points in train: 341\n",
            "Number of features in train: 51\n",
            "Number of data points in test: 119\n",
            "Number of features in test: 50\n"
          ],
          "name": "stdout"
        }
      ]
    },
    {
      "metadata": {
        "id": "-2SWEHtDh9VB",
        "colab_type": "code",
        "outputId": "4b1f4299-030d-4291-df36-ab19828a86be",
        "colab": {
          "base_uri": "https://localhost:8080/",
          "height": 54
        }
      },
      "cell_type": "code",
      "source": [
        "print(list(train.columns.values))\n",
        "#['Display Type', 'RAM', 'Screen Size', 'Weight', 'SIM Size', 'NFC', 'Model', 'PhoneId', 'SIM 1', 'Touch Screen', 'Fingerprint Sensor', 'Display Colour', 'Browser', 'SIM 2', 'USB Connectivity', 'Capacity', 'Brand', 'Expandable Memory', 'Other Sensors', 'Rating Count', 'Internal Memory', 'Shooting Modes', 'Height', 'Screen to Body Ratio (calculated)', 'Image Resolution', 'Type', 'Bezel-less display', 'Camera Features', 'Pixel Density', 'Resolution', 'Colours', 'Flash', 'User Replaceable', 'Operating System', 'Autofocus', 'Aspect Ratio', 'Screen Resolution', 'Thickness', 'FM Radio', 'Processor', 'SIM Slot(s)', 'Chipset', 'Review Count', 'Width', 'Graphics', 'User Available Storage', 'Num_cores', 'Processor_frequency', 'os_name', 'Sim1']\n"
      ],
      "execution_count": 0,
      "outputs": [
        {
          "output_type": "stream",
          "text": [
            "['SIM 2', 'Touch Screen', 'Capacity', 'NFC', 'Fingerprint Sensor', 'SIM Size', 'Other Sensors', 'Screen Resolution', 'Model', 'Camera Features', 'Internal Memory', 'User Available Storage', 'Bezel-less display', 'Thickness', 'Height', 'Colours', 'Browser', 'Screen to Body Ratio (calculated)', 'SIM Slot(s)', 'FM Radio', 'Expandable Memory', 'RAM', 'Shooting Modes', 'Weight', 'Operating System', 'Image Resolution', 'Type', 'Autofocus', 'User Replaceable', 'Pixel Density', 'Rating Count', 'Display Type', 'Flash', 'Width', 'SIM 1', 'Aspect Ratio', 'Processor', 'Brand', 'Resolution', 'Rating', 'Review Count', 'Chipset', 'USB Connectivity', 'Display Colour', 'PhoneId', 'Graphics', 'Screen Size', 'Num_cores', 'Processor_frequency', 'os_name', 'Sim1']\n"
          ],
          "name": "stdout"
        }
      ]
    },
    {
      "metadata": {
        "id": "vbslUOUpjTbW",
        "colab_type": "code",
        "colab": {}
      },
      "cell_type": "code",
      "source": [
        "print(train['Processor'])\n",
        "#0      Octa core, 1.8 GHz, Cortex A53 Average ▾Proces..."
      ],
      "execution_count": 0,
      "outputs": []
    },
    {
      "metadata": {
        "id": "7aWrhxeEPGog",
        "colab_type": "text"
      },
      "cell_type": "markdown",
      "source": [
        "Not very important feature"
      ]
    },
    {
      "metadata": {
        "id": "a8EFxd97PGok",
        "colab_type": "code",
        "colab": {}
      },
      "cell_type": "code",
      "source": [
        "def data_clean_3(x):\n",
        "    \n",
        "    data = x.copy()\n",
        "\n",
        "    columns_to_remove = ['User Available Storage','SIM Size','Chipset','Processor','Autofocus','Aspect Ratio','Touch Screen',\n",
        "                        'Bezel-less display','Operating System','SIM 1','USB Connectivity','Other Sensors','Graphics','FM Radio',\n",
        "                        'NFC','Shooting Modes','Browser','Display Colour' ]\n",
        "\n",
        "    columns_to_retain = list(set(data.columns)-set(columns_to_remove))\n",
        "    data = data[columns_to_retain]\n",
        "\n",
        "\n",
        "    columns_to_remove = [ 'Screen Resolution','User Replaceable','Camera Features',\n",
        "                        'Thickness', 'Display Type']\n",
        "\n",
        "    columns_to_retain = list(set(data.columns)-set(columns_to_remove))\n",
        "    data = data[columns_to_retain]\n",
        "\n",
        "\n",
        "    columns_to_remove = ['Fingerprint Sensor', 'Flash', 'Rating Count', 'Review Count','Image Resolution','Type','Expandable Memory',\\\n",
        "                        'Colours','Width','Model']\n",
        "    columns_to_retain = list(set(data.columns)-set(columns_to_remove))\n",
        "    data = data[columns_to_retain]\n",
        "\n",
        "    return data"
      ],
      "execution_count": 0,
      "outputs": []
    },
    {
      "metadata": {
        "id": "MLv9G6l9PGox",
        "colab_type": "code",
        "outputId": "503af85e-8fe5-4325-c08b-920e7c008f2e",
        "colab": {
          "base_uri": "https://localhost:8080/",
          "height": 86
        }
      },
      "cell_type": "code",
      "source": [
        "train = data_clean_3(train)\n",
        "test = data_clean_3(test)\n",
        "\n",
        "# check the number of features and data points in train\n",
        "print(\"Number of data points in train: %d\" % train.shape[0])\n",
        "print(\"Number of features in train: %d\" % train.shape[1])\n",
        "\n",
        "# check the number of features and data points in test\n",
        "print(\"Number of data points in test: %d\" % test.shape[0])\n",
        "print(\"Number of features in test: %d\" % test.shape[1])"
      ],
      "execution_count": 0,
      "outputs": [
        {
          "output_type": "stream",
          "text": [
            "Number of data points in train: 341\n",
            "Number of features in train: 18\n",
            "Number of data points in test: 119\n",
            "Number of features in test: 17\n"
          ],
          "name": "stdout"
        }
      ]
    },
    {
      "metadata": {
        "id": "nJ__egW3PGpB",
        "colab_type": "code",
        "outputId": "b8294601-f22a-415a-de75-b65df7e3e494",
        "colab": {
          "base_uri": "https://localhost:8080/",
          "height": 573
        }
      },
      "cell_type": "code",
      "source": [
        "# one hot encoding            for categorical feature with more then two catgories,one hot is used for example we have colour as [red, yellow, green, purple] then we can make an array[0 0 0 0]  and for every row, which ever colour is true, change the corresponding index representing that colour to 1]\n",
        "\n",
        "\n",
        "#steps\n",
        "#1 combine test train, drop rating from train\n",
        "#2 do one hot encoding\n",
        "#separate test and train again according to their IDs as stored before in variables train_ids, test_ids\n",
        "\n",
        "\n",
        "train_ids = train['PhoneId']\n",
        "test_ids = test['PhoneId']\n",
        "\n",
        "cols = list(test.columns)\n",
        "cols.remove('PhoneId')\n",
        "cols.insert(0, 'PhoneId')\n",
        "\n",
        "combined = pd.concat([train.drop('Rating', axis=1)[cols], test[cols]])\n",
        "\n",
        "print(combined.shape)\n",
        "print(combined.columns)\n",
        "\n",
        "combined = pd.get_dummies(combined)\n",
        "print(combined.shape)\n",
        "print(combined.columns)\n",
        "\n",
        "train_new = combined[combined['PhoneId'].isin(train_ids)]\n",
        "test_new = combined[combined['PhoneId'].isin(test_ids)]"
      ],
      "execution_count": 0,
      "outputs": [
        {
          "output_type": "stream",
          "text": [
            "(460, 17)\n",
            "Index(['PhoneId', 'SIM 2', 'Capacity', 'Internal Memory', 'Weight', 'Sim1',\n",
            "       'Brand', 'Resolution', 'Processor_frequency', 'Height', 'os_name',\n",
            "       'Num_cores', 'Pixel Density', 'Screen to Body Ratio (calculated)',\n",
            "       'Screen Size', 'SIM Slot(s)', 'RAM'],\n",
            "      dtype='object')\n",
            "(460, 87)\n",
            "Index(['PhoneId', 'Capacity', 'Internal Memory', 'Weight', 'Resolution',\n",
            "       'Processor_frequency', 'Height', 'Pixel Density',\n",
            "       'Screen to Body Ratio (calculated)', 'Screen Size', 'RAM', 'SIM 2_2G',\n",
            "       'SIM 2_3G', 'SIM 2_4G', 'SIM 2_Other', 'Sim1_2G', 'Sim1_3G', 'Sim1_4G',\n",
            "       'Brand_10.or', 'Brand_Apple', 'Brand_Asus', 'Brand_Billion',\n",
            "       'Brand_Blackberry', 'Brand_Comio', 'Brand_Coolpad', 'Brand_Do',\n",
            "       'Brand_Gionee', 'Brand_Google', 'Brand_HTC', 'Brand_Honor',\n",
            "       'Brand_Huawei', 'Brand_InFocus', 'Brand_Infinix', 'Brand_Intex',\n",
            "       'Brand_Itel', 'Brand_Jivi', 'Brand_Karbonn', 'Brand_LG', 'Brand_Lava',\n",
            "       'Brand_LeEco', 'Brand_Lenovo', 'Brand_Lephone', 'Brand_Lyf',\n",
            "       'Brand_Meizu', 'Brand_Micromax', 'Brand_Mobiistar', 'Brand_Moto',\n",
            "       'Brand_Motorola', 'Brand_Nokia', 'Brand_Nubia', 'Brand_OPPO',\n",
            "       'Brand_OnePlus', 'Brand_Oppo', 'Brand_Panasonic', 'Brand_Razer',\n",
            "       'Brand_Realme', 'Brand_Reliance', 'Brand_Samsung', 'Brand_Sony',\n",
            "       'Brand_Spice', 'Brand_Tecno', 'Brand_Ulefone', 'Brand_VOTO',\n",
            "       'Brand_Vivo', 'Brand_Xiaomi', 'Brand_Xiaomi Poco', 'Brand_Yu',\n",
            "       'Brand_iVooMi', 'os_name_Android', 'os_name_Blackberry', 'os_name_KAI',\n",
            "       'os_name_Nokia', 'os_name_Other', 'os_name_Tizen', 'os_name_iOS',\n",
            "       'Num_cores_312', 'Num_cores_Deca', 'Num_cores_Dual', 'Num_cores_Hexa',\n",
            "       'Num_cores_Octa', 'Num_cores_Other', 'Num_cores_Quad',\n",
            "       'Num_cores_Tru-Octa', 'SIM Slot(s)_Dual SIM, GSM+CDMA',\n",
            "       'SIM Slot(s)_Dual SIM, GSM+GSM',\n",
            "       'SIM Slot(s)_Dual SIM, GSM+GSM, Dual VoLTE',\n",
            "       'SIM Slot(s)_Single SIM, GSM'],\n",
            "      dtype='object')\n"
          ],
          "name": "stdout"
        }
      ]
    },
    {
      "metadata": {
        "id": "mTEPL_YwmPA9",
        "colab_type": "code",
        "outputId": "3917afa9-1735-4112-b967-22f78bf3818f",
        "colab": {
          "base_uri": "https://localhost:8080/",
          "height": 72
        }
      },
      "cell_type": "code",
      "source": [
        "print(list(train_new.columns.values))\n",
        "print(list(test_new.columns.values))"
      ],
      "execution_count": 0,
      "outputs": [
        {
          "output_type": "stream",
          "text": [
            "['PhoneId', 'Capacity', 'Internal Memory', 'Weight', 'Resolution', 'Processor_frequency', 'Height', 'Pixel Density', 'Screen to Body Ratio (calculated)', 'Screen Size', 'RAM', 'SIM 2_2G', 'SIM 2_3G', 'SIM 2_4G', 'SIM 2_Other', 'Sim1_2G', 'Sim1_3G', 'Sim1_4G', 'Brand_10.or', 'Brand_Apple', 'Brand_Asus', 'Brand_Billion', 'Brand_Blackberry', 'Brand_Comio', 'Brand_Coolpad', 'Brand_Do', 'Brand_Gionee', 'Brand_Google', 'Brand_HTC', 'Brand_Honor', 'Brand_Huawei', 'Brand_InFocus', 'Brand_Infinix', 'Brand_Intex', 'Brand_Itel', 'Brand_Jivi', 'Brand_Karbonn', 'Brand_LG', 'Brand_Lava', 'Brand_LeEco', 'Brand_Lenovo', 'Brand_Lephone', 'Brand_Lyf', 'Brand_Meizu', 'Brand_Micromax', 'Brand_Mobiistar', 'Brand_Moto', 'Brand_Motorola', 'Brand_Nokia', 'Brand_Nubia', 'Brand_OPPO', 'Brand_OnePlus', 'Brand_Oppo', 'Brand_Panasonic', 'Brand_Razer', 'Brand_Realme', 'Brand_Reliance', 'Brand_Samsung', 'Brand_Sony', 'Brand_Spice', 'Brand_Tecno', 'Brand_Ulefone', 'Brand_VOTO', 'Brand_Vivo', 'Brand_Xiaomi', 'Brand_Xiaomi Poco', 'Brand_Yu', 'Brand_iVooMi', 'os_name_Android', 'os_name_Blackberry', 'os_name_KAI', 'os_name_Nokia', 'os_name_Other', 'os_name_Tizen', 'os_name_iOS', 'Num_cores_312', 'Num_cores_Deca', 'Num_cores_Dual', 'Num_cores_Hexa', 'Num_cores_Octa', 'Num_cores_Other', 'Num_cores_Quad', 'Num_cores_Tru-Octa', 'SIM Slot(s)_Dual SIM, GSM+CDMA', 'SIM Slot(s)_Dual SIM, GSM+GSM', 'SIM Slot(s)_Dual SIM, GSM+GSM, Dual VoLTE', 'SIM Slot(s)_Single SIM, GSM']\n",
            "['PhoneId', 'Capacity', 'Internal Memory', 'Weight', 'Resolution', 'Processor_frequency', 'Height', 'Pixel Density', 'Screen to Body Ratio (calculated)', 'Screen Size', 'RAM', 'SIM 2_2G', 'SIM 2_3G', 'SIM 2_4G', 'SIM 2_Other', 'Sim1_2G', 'Sim1_3G', 'Sim1_4G', 'Brand_10.or', 'Brand_Apple', 'Brand_Asus', 'Brand_Billion', 'Brand_Blackberry', 'Brand_Comio', 'Brand_Coolpad', 'Brand_Do', 'Brand_Gionee', 'Brand_Google', 'Brand_HTC', 'Brand_Honor', 'Brand_Huawei', 'Brand_InFocus', 'Brand_Infinix', 'Brand_Intex', 'Brand_Itel', 'Brand_Jivi', 'Brand_Karbonn', 'Brand_LG', 'Brand_Lava', 'Brand_LeEco', 'Brand_Lenovo', 'Brand_Lephone', 'Brand_Lyf', 'Brand_Meizu', 'Brand_Micromax', 'Brand_Mobiistar', 'Brand_Moto', 'Brand_Motorola', 'Brand_Nokia', 'Brand_Nubia', 'Brand_OPPO', 'Brand_OnePlus', 'Brand_Oppo', 'Brand_Panasonic', 'Brand_Razer', 'Brand_Realme', 'Brand_Reliance', 'Brand_Samsung', 'Brand_Sony', 'Brand_Spice', 'Brand_Tecno', 'Brand_Ulefone', 'Brand_VOTO', 'Brand_Vivo', 'Brand_Xiaomi', 'Brand_Xiaomi Poco', 'Brand_Yu', 'Brand_iVooMi', 'os_name_Android', 'os_name_Blackberry', 'os_name_KAI', 'os_name_Nokia', 'os_name_Other', 'os_name_Tizen', 'os_name_iOS', 'Num_cores_312', 'Num_cores_Deca', 'Num_cores_Dual', 'Num_cores_Hexa', 'Num_cores_Octa', 'Num_cores_Other', 'Num_cores_Quad', 'Num_cores_Tru-Octa', 'SIM Slot(s)_Dual SIM, GSM+CDMA', 'SIM Slot(s)_Dual SIM, GSM+GSM', 'SIM Slot(s)_Dual SIM, GSM+GSM, Dual VoLTE', 'SIM Slot(s)_Single SIM, GSM']\n"
          ],
          "name": "stdout"
        }
      ]
    },
    {
      "metadata": {
        "id": "Q_U7uKJ_PGpP",
        "colab_type": "code",
        "colab": {}
      },
      "cell_type": "code",
      "source": [
        "#train_dummy=train_new\n",
        "train_new = train_new.merge(train[['PhoneId', 'Rating']], on='PhoneId')\n"
      ],
      "execution_count": 0,
      "outputs": []
    },
    {
      "metadata": {
        "id": "Crg0YWGdaJxq",
        "colab_type": "code",
        "colab": {}
      },
      "cell_type": "code",
      "source": [
        "print(train_new[['PhoneId','Rating']])"
      ],
      "execution_count": 0,
      "outputs": []
    },
    {
      "metadata": {
        "id": "zToQhvfoPGpa",
        "colab_type": "code",
        "outputId": "448f4d95-5f16-4ccc-ea72-55aa915647c9",
        "colab": {
          "base_uri": "https://localhost:8080/",
          "height": 86
        }
      },
      "cell_type": "code",
      "source": [
        "# check the number of features and data points in train\n",
        "print(\"Number of data points in train: %d\" % train_new.shape[0])\n",
        "print(\"Number of features in train: %d\" % train_new.shape[1])\n",
        "\n",
        "# check the number of features and data points in test\n",
        "print(\"Number of data points in test: %d\" % test_new.shape[0])\n",
        "print(\"Number of features in test: %d\" % test_new.shape[1])"
      ],
      "execution_count": 0,
      "outputs": [
        {
          "output_type": "stream",
          "text": [
            "Number of data points in train: 341\n",
            "Number of features in train: 88\n",
            "Number of data points in test: 119\n",
            "Number of features in test: 87\n"
          ],
          "name": "stdout"
        }
      ]
    },
    {
      "metadata": {
        "id": "xvG_IgKVPGpy",
        "colab_type": "code",
        "outputId": "7d464d69-8b13-4a69-8ef1-a1dead991056",
        "colab": {
          "base_uri": "https://localhost:8080/",
          "height": 325
        }
      },
      "cell_type": "code",
      "source": [
        "train_new.head()"
      ],
      "execution_count": 0,
      "outputs": [
        {
          "output_type": "execute_result",
          "data": {
            "text/html": [
              "<div>\n",
              "<style scoped>\n",
              "    .dataframe tbody tr th:only-of-type {\n",
              "        vertical-align: middle;\n",
              "    }\n",
              "\n",
              "    .dataframe tbody tr th {\n",
              "        vertical-align: top;\n",
              "    }\n",
              "\n",
              "    .dataframe thead th {\n",
              "        text-align: right;\n",
              "    }\n",
              "</style>\n",
              "<table border=\"1\" class=\"dataframe\">\n",
              "  <thead>\n",
              "    <tr style=\"text-align: right;\">\n",
              "      <th></th>\n",
              "      <th>PhoneId</th>\n",
              "      <th>Capacity</th>\n",
              "      <th>Internal Memory</th>\n",
              "      <th>Weight</th>\n",
              "      <th>Resolution</th>\n",
              "      <th>Processor_frequency</th>\n",
              "      <th>Height</th>\n",
              "      <th>Pixel Density</th>\n",
              "      <th>Screen to Body Ratio (calculated)</th>\n",
              "      <th>Screen Size</th>\n",
              "      <th>...</th>\n",
              "      <th>Num_cores_Hexa</th>\n",
              "      <th>Num_cores_Octa</th>\n",
              "      <th>Num_cores_Other</th>\n",
              "      <th>Num_cores_Quad</th>\n",
              "      <th>Num_cores_Tru-Octa</th>\n",
              "      <th>SIM Slot(s)_Dual SIM, GSM+CDMA</th>\n",
              "      <th>SIM Slot(s)_Dual SIM, GSM+GSM</th>\n",
              "      <th>SIM Slot(s)_Dual SIM, GSM+GSM, Dual VoLTE</th>\n",
              "      <th>SIM Slot(s)_Single SIM, GSM</th>\n",
              "      <th>Rating</th>\n",
              "    </tr>\n",
              "  </thead>\n",
              "  <tbody>\n",
              "    <tr>\n",
              "      <th>0</th>\n",
              "      <td>0</td>\n",
              "      <td>4000</td>\n",
              "      <td>64</td>\n",
              "      <td>182</td>\n",
              "      <td>20</td>\n",
              "      <td>1.8</td>\n",
              "      <td>157.9</td>\n",
              "      <td>403</td>\n",
              "      <td>80.68</td>\n",
              "      <td>6.26</td>\n",
              "      <td>...</td>\n",
              "      <td>0</td>\n",
              "      <td>1</td>\n",
              "      <td>0</td>\n",
              "      <td>0</td>\n",
              "      <td>0</td>\n",
              "      <td>0</td>\n",
              "      <td>0</td>\n",
              "      <td>1</td>\n",
              "      <td>0</td>\n",
              "      <td>4.5</td>\n",
              "    </tr>\n",
              "    <tr>\n",
              "      <th>1</th>\n",
              "      <td>1</td>\n",
              "      <td>4230</td>\n",
              "      <td>32</td>\n",
              "      <td>168</td>\n",
              "      <td>8</td>\n",
              "      <td>1.8</td>\n",
              "      <td>156.2</td>\n",
              "      <td>271</td>\n",
              "      <td>80.85</td>\n",
              "      <td>6.20</td>\n",
              "      <td>...</td>\n",
              "      <td>0</td>\n",
              "      <td>1</td>\n",
              "      <td>0</td>\n",
              "      <td>0</td>\n",
              "      <td>0</td>\n",
              "      <td>0</td>\n",
              "      <td>0</td>\n",
              "      <td>1</td>\n",
              "      <td>0</td>\n",
              "      <td>4.5</td>\n",
              "    </tr>\n",
              "    <tr>\n",
              "      <th>2</th>\n",
              "      <td>2</td>\n",
              "      <td>3500</td>\n",
              "      <td>32</td>\n",
              "      <td>168</td>\n",
              "      <td>25</td>\n",
              "      <td>2.1</td>\n",
              "      <td>157.0</td>\n",
              "      <td>409</td>\n",
              "      <td>83.68</td>\n",
              "      <td>6.30</td>\n",
              "      <td>...</td>\n",
              "      <td>0</td>\n",
              "      <td>1</td>\n",
              "      <td>0</td>\n",
              "      <td>0</td>\n",
              "      <td>0</td>\n",
              "      <td>0</td>\n",
              "      <td>0</td>\n",
              "      <td>1</td>\n",
              "      <td>0</td>\n",
              "      <td>4.4</td>\n",
              "    </tr>\n",
              "    <tr>\n",
              "      <th>3</th>\n",
              "      <td>4</td>\n",
              "      <td>3300</td>\n",
              "      <td>64</td>\n",
              "      <td>169</td>\n",
              "      <td>24</td>\n",
              "      <td>2.2</td>\n",
              "      <td>159.8</td>\n",
              "      <td>411</td>\n",
              "      <td>74.78</td>\n",
              "      <td>6.00</td>\n",
              "      <td>...</td>\n",
              "      <td>0</td>\n",
              "      <td>1</td>\n",
              "      <td>0</td>\n",
              "      <td>0</td>\n",
              "      <td>0</td>\n",
              "      <td>0</td>\n",
              "      <td>1</td>\n",
              "      <td>0</td>\n",
              "      <td>0</td>\n",
              "      <td>4.3</td>\n",
              "    </tr>\n",
              "    <tr>\n",
              "      <th>4</th>\n",
              "      <td>5</td>\n",
              "      <td>3750</td>\n",
              "      <td>64</td>\n",
              "      <td>175</td>\n",
              "      <td>16</td>\n",
              "      <td>2.2</td>\n",
              "      <td>160.4</td>\n",
              "      <td>396</td>\n",
              "      <td>84.23</td>\n",
              "      <td>6.50</td>\n",
              "      <td>...</td>\n",
              "      <td>0</td>\n",
              "      <td>1</td>\n",
              "      <td>0</td>\n",
              "      <td>0</td>\n",
              "      <td>0</td>\n",
              "      <td>0</td>\n",
              "      <td>0</td>\n",
              "      <td>1</td>\n",
              "      <td>0</td>\n",
              "      <td>4.4</td>\n",
              "    </tr>\n",
              "  </tbody>\n",
              "</table>\n",
              "<p>5 rows × 88 columns</p>\n",
              "</div>"
            ],
            "text/plain": [
              "   PhoneId  Capacity  Internal Memory  Weight  Resolution  \\\n",
              "0        0      4000               64     182          20   \n",
              "1        1      4230               32     168           8   \n",
              "2        2      3500               32     168          25   \n",
              "3        4      3300               64     169          24   \n",
              "4        5      3750               64     175          16   \n",
              "\n",
              "   Processor_frequency  Height  Pixel Density  \\\n",
              "0                  1.8   157.9            403   \n",
              "1                  1.8   156.2            271   \n",
              "2                  2.1   157.0            409   \n",
              "3                  2.2   159.8            411   \n",
              "4                  2.2   160.4            396   \n",
              "\n",
              "   Screen to Body Ratio (calculated)  Screen Size   ...    Num_cores_Hexa  \\\n",
              "0                              80.68         6.26   ...                 0   \n",
              "1                              80.85         6.20   ...                 0   \n",
              "2                              83.68         6.30   ...                 0   \n",
              "3                              74.78         6.00   ...                 0   \n",
              "4                              84.23         6.50   ...                 0   \n",
              "\n",
              "   Num_cores_Octa  Num_cores_Other  Num_cores_Quad  Num_cores_Tru-Octa  \\\n",
              "0               1                0               0                   0   \n",
              "1               1                0               0                   0   \n",
              "2               1                0               0                   0   \n",
              "3               1                0               0                   0   \n",
              "4               1                0               0                   0   \n",
              "\n",
              "   SIM Slot(s)_Dual SIM, GSM+CDMA  SIM Slot(s)_Dual SIM, GSM+GSM  \\\n",
              "0                               0                              0   \n",
              "1                               0                              0   \n",
              "2                               0                              0   \n",
              "3                               0                              1   \n",
              "4                               0                              0   \n",
              "\n",
              "   SIM Slot(s)_Dual SIM, GSM+GSM, Dual VoLTE  SIM Slot(s)_Single SIM, GSM  \\\n",
              "0                                          1                            0   \n",
              "1                                          1                            0   \n",
              "2                                          1                            0   \n",
              "3                                          0                            0   \n",
              "4                                          1                            0   \n",
              "\n",
              "   Rating  \n",
              "0     4.5  \n",
              "1     4.5  \n",
              "2     4.4  \n",
              "3     4.3  \n",
              "4     4.4  \n",
              "\n",
              "[5 rows x 88 columns]"
            ]
          },
          "metadata": {
            "tags": []
          },
          "execution_count": 78
        }
      ]
    },
    {
      "metadata": {
        "id": "pE5QzokqWHiD",
        "colab_type": "code",
        "outputId": "27dfee96-6927-4ef2-fc10-928db39b0540",
        "colab": {
          "base_uri": "https://localhost:8080/",
          "height": 34
        }
      },
      "cell_type": "code",
      "source": [
        "train_new.shape"
      ],
      "execution_count": 0,
      "outputs": [
        {
          "output_type": "execute_result",
          "data": {
            "text/plain": [
              "(355, 91)"
            ]
          },
          "metadata": {
            "tags": []
          },
          "execution_count": 32
        }
      ]
    },
    {
      "metadata": {
        "id": "l1X-3EI9PGqI",
        "colab_type": "code",
        "outputId": "fef4283e-1277-4f65-b158-943a6801cae4",
        "colab": {
          "base_uri": "https://localhost:8080/",
          "height": 325
        }
      },
      "cell_type": "code",
      "source": [
        "test_new.head()"
      ],
      "execution_count": 0,
      "outputs": [
        {
          "output_type": "execute_result",
          "data": {
            "text/html": [
              "<div>\n",
              "<style scoped>\n",
              "    .dataframe tbody tr th:only-of-type {\n",
              "        vertical-align: middle;\n",
              "    }\n",
              "\n",
              "    .dataframe tbody tr th {\n",
              "        vertical-align: top;\n",
              "    }\n",
              "\n",
              "    .dataframe thead th {\n",
              "        text-align: right;\n",
              "    }\n",
              "</style>\n",
              "<table border=\"1\" class=\"dataframe\">\n",
              "  <thead>\n",
              "    <tr style=\"text-align: right;\">\n",
              "      <th></th>\n",
              "      <th>PhoneId</th>\n",
              "      <th>Capacity</th>\n",
              "      <th>Internal Memory</th>\n",
              "      <th>Weight</th>\n",
              "      <th>Resolution</th>\n",
              "      <th>Processor_frequency</th>\n",
              "      <th>Height</th>\n",
              "      <th>Pixel Density</th>\n",
              "      <th>Screen to Body Ratio (calculated)</th>\n",
              "      <th>Screen Size</th>\n",
              "      <th>...</th>\n",
              "      <th>Num_cores_Dual</th>\n",
              "      <th>Num_cores_Hexa</th>\n",
              "      <th>Num_cores_Octa</th>\n",
              "      <th>Num_cores_Other</th>\n",
              "      <th>Num_cores_Quad</th>\n",
              "      <th>Num_cores_Tru-Octa</th>\n",
              "      <th>SIM Slot(s)_Dual SIM, GSM+CDMA</th>\n",
              "      <th>SIM Slot(s)_Dual SIM, GSM+GSM</th>\n",
              "      <th>SIM Slot(s)_Dual SIM, GSM+GSM, Dual VoLTE</th>\n",
              "      <th>SIM Slot(s)_Single SIM, GSM</th>\n",
              "    </tr>\n",
              "  </thead>\n",
              "  <tbody>\n",
              "    <tr>\n",
              "      <th>0</th>\n",
              "      <td>3</td>\n",
              "      <td>4230</td>\n",
              "      <td>16</td>\n",
              "      <td>168</td>\n",
              "      <td>5</td>\n",
              "      <td>1.8</td>\n",
              "      <td>156.2</td>\n",
              "      <td>271</td>\n",
              "      <td>80.85</td>\n",
              "      <td>6.20</td>\n",
              "      <td>...</td>\n",
              "      <td>0</td>\n",
              "      <td>0</td>\n",
              "      <td>1</td>\n",
              "      <td>0</td>\n",
              "      <td>0</td>\n",
              "      <td>0</td>\n",
              "      <td>0</td>\n",
              "      <td>0</td>\n",
              "      <td>1</td>\n",
              "      <td>0</td>\n",
              "    </tr>\n",
              "    <tr>\n",
              "      <th>1</th>\n",
              "      <td>11</td>\n",
              "      <td>5000</td>\n",
              "      <td>64</td>\n",
              "      <td>205</td>\n",
              "      <td>12</td>\n",
              "      <td>1.8</td>\n",
              "      <td>156.0</td>\n",
              "      <td>402</td>\n",
              "      <td>81.60</td>\n",
              "      <td>6.20</td>\n",
              "      <td>...</td>\n",
              "      <td>0</td>\n",
              "      <td>0</td>\n",
              "      <td>1</td>\n",
              "      <td>0</td>\n",
              "      <td>0</td>\n",
              "      <td>0</td>\n",
              "      <td>0</td>\n",
              "      <td>0</td>\n",
              "      <td>1</td>\n",
              "      <td>0</td>\n",
              "    </tr>\n",
              "    <tr>\n",
              "      <th>2</th>\n",
              "      <td>13</td>\n",
              "      <td>3500</td>\n",
              "      <td>64</td>\n",
              "      <td>169</td>\n",
              "      <td>25</td>\n",
              "      <td>2.0</td>\n",
              "      <td>156.7</td>\n",
              "      <td>409</td>\n",
              "      <td>83.84</td>\n",
              "      <td>6.30</td>\n",
              "      <td>...</td>\n",
              "      <td>0</td>\n",
              "      <td>0</td>\n",
              "      <td>1</td>\n",
              "      <td>0</td>\n",
              "      <td>0</td>\n",
              "      <td>0</td>\n",
              "      <td>0</td>\n",
              "      <td>0</td>\n",
              "      <td>1</td>\n",
              "      <td>0</td>\n",
              "    </tr>\n",
              "    <tr>\n",
              "      <th>3</th>\n",
              "      <td>16</td>\n",
              "      <td>3500</td>\n",
              "      <td>64</td>\n",
              "      <td>169</td>\n",
              "      <td>16</td>\n",
              "      <td>2.0</td>\n",
              "      <td>156.7</td>\n",
              "      <td>409</td>\n",
              "      <td>83.84</td>\n",
              "      <td>6.30</td>\n",
              "      <td>...</td>\n",
              "      <td>0</td>\n",
              "      <td>0</td>\n",
              "      <td>1</td>\n",
              "      <td>0</td>\n",
              "      <td>0</td>\n",
              "      <td>0</td>\n",
              "      <td>0</td>\n",
              "      <td>0</td>\n",
              "      <td>1</td>\n",
              "      <td>0</td>\n",
              "    </tr>\n",
              "    <tr>\n",
              "      <th>4</th>\n",
              "      <td>19</td>\n",
              "      <td>4000</td>\n",
              "      <td>64</td>\n",
              "      <td>181</td>\n",
              "      <td>20</td>\n",
              "      <td>1.8</td>\n",
              "      <td>158.6</td>\n",
              "      <td>403</td>\n",
              "      <td>77.43</td>\n",
              "      <td>5.99</td>\n",
              "      <td>...</td>\n",
              "      <td>0</td>\n",
              "      <td>0</td>\n",
              "      <td>1</td>\n",
              "      <td>0</td>\n",
              "      <td>0</td>\n",
              "      <td>0</td>\n",
              "      <td>0</td>\n",
              "      <td>0</td>\n",
              "      <td>1</td>\n",
              "      <td>0</td>\n",
              "    </tr>\n",
              "  </tbody>\n",
              "</table>\n",
              "<p>5 rows × 87 columns</p>\n",
              "</div>"
            ],
            "text/plain": [
              "   PhoneId  Capacity  Internal Memory  Weight  Resolution  \\\n",
              "0        3      4230               16     168           5   \n",
              "1       11      5000               64     205          12   \n",
              "2       13      3500               64     169          25   \n",
              "3       16      3500               64     169          16   \n",
              "4       19      4000               64     181          20   \n",
              "\n",
              "   Processor_frequency  Height  Pixel Density  \\\n",
              "0                  1.8   156.2            271   \n",
              "1                  1.8   156.0            402   \n",
              "2                  2.0   156.7            409   \n",
              "3                  2.0   156.7            409   \n",
              "4                  1.8   158.6            403   \n",
              "\n",
              "   Screen to Body Ratio (calculated)  Screen Size  \\\n",
              "0                              80.85         6.20   \n",
              "1                              81.60         6.20   \n",
              "2                              83.84         6.30   \n",
              "3                              83.84         6.30   \n",
              "4                              77.43         5.99   \n",
              "\n",
              "              ...               Num_cores_Dual  Num_cores_Hexa  \\\n",
              "0             ...                            0               0   \n",
              "1             ...                            0               0   \n",
              "2             ...                            0               0   \n",
              "3             ...                            0               0   \n",
              "4             ...                            0               0   \n",
              "\n",
              "   Num_cores_Octa  Num_cores_Other  Num_cores_Quad  Num_cores_Tru-Octa  \\\n",
              "0               1                0               0                   0   \n",
              "1               1                0               0                   0   \n",
              "2               1                0               0                   0   \n",
              "3               1                0               0                   0   \n",
              "4               1                0               0                   0   \n",
              "\n",
              "   SIM Slot(s)_Dual SIM, GSM+CDMA  SIM Slot(s)_Dual SIM, GSM+GSM  \\\n",
              "0                               0                              0   \n",
              "1                               0                              0   \n",
              "2                               0                              0   \n",
              "3                               0                              0   \n",
              "4                               0                              0   \n",
              "\n",
              "   SIM Slot(s)_Dual SIM, GSM+GSM, Dual VoLTE  SIM Slot(s)_Single SIM, GSM  \n",
              "0                                          1                            0  \n",
              "1                                          1                            0  \n",
              "2                                          1                            0  \n",
              "3                                          1                            0  \n",
              "4                                          1                            0  \n",
              "\n",
              "[5 rows x 87 columns]"
            ]
          },
          "metadata": {
            "tags": []
          },
          "execution_count": 79
        }
      ]
    },
    {
      "metadata": {
        "id": "BVmraMZWABKs",
        "colab_type": "text"
      },
      "cell_type": "markdown",
      "source": [
        "# X_train, Y_train"
      ]
    },
    {
      "metadata": {
        "id": "8qAEe6xJxrvZ",
        "colab_type": "code",
        "colab": {}
      },
      "cell_type": "code",
      "source": [
        "Y_train=train_new['Rating']\n",
        "X_train=train_new.drop('Rating',axis=1)   #drop rating"
      ],
      "execution_count": 0,
      "outputs": []
    },
    {
      "metadata": {
        "id": "S3ZGO25geQZt",
        "colab_type": "code",
        "colab": {}
      },
      "cell_type": "code",
      "source": [
        "print(Y_train,X_train['PhoneId'])\n"
      ],
      "execution_count": 0,
      "outputs": []
    },
    {
      "metadata": {
        "id": "Nx14V6lMea2l",
        "colab_type": "code",
        "colab": {}
      },
      "cell_type": "code",
      "source": [
        "print(train_new[['PhoneId','Rating']])"
      ],
      "execution_count": 0,
      "outputs": []
    },
    {
      "metadata": {
        "id": "iX2nLGSI_yZ-",
        "colab_type": "code",
        "outputId": "bb5b57b3-ed4b-4999-a459-726a3297c99e",
        "colab": {
          "base_uri": "https://localhost:8080/",
          "height": 34
        }
      },
      "cell_type": "code",
      "source": [
        "Y_train.shape\n",
        "\n",
        "X_train.shape "
      ],
      "execution_count": 0,
      "outputs": [
        {
          "output_type": "execute_result",
          "data": {
            "text/plain": [
              "(341, 87)"
            ]
          },
          "metadata": {
            "tags": []
          },
          "execution_count": 81
        }
      ]
    },
    {
      "metadata": {
        "id": "9YNidVcWx2ZH",
        "colab_type": "code",
        "outputId": "fb28e9fb-c54a-4ee2-f1c0-3b5a0c42941d",
        "colab": {
          "base_uri": "https://localhost:8080/",
          "height": 54
        }
      },
      "cell_type": "code",
      "source": [
        "#X_train=X_train.drop('PhoneId',axis=1)\n",
        "print(list(X_train.columns.values))"
      ],
      "execution_count": 0,
      "outputs": [
        {
          "output_type": "stream",
          "text": [
            "['PhoneId', 'Capacity', 'Internal Memory', 'Weight', 'Resolution', 'Processor_frequency', 'Height', 'Pixel Density', 'Screen to Body Ratio (calculated)', 'Screen Size', 'RAM', 'SIM 2_2G', 'SIM 2_3G', 'SIM 2_4G', 'SIM 2_Other', 'Sim1_2G', 'Sim1_3G', 'Sim1_4G', 'Brand_10.or', 'Brand_Apple', 'Brand_Asus', 'Brand_Billion', 'Brand_Blackberry', 'Brand_Comio', 'Brand_Coolpad', 'Brand_Do', 'Brand_Gionee', 'Brand_Google', 'Brand_HTC', 'Brand_Honor', 'Brand_Huawei', 'Brand_InFocus', 'Brand_Infinix', 'Brand_Intex', 'Brand_Itel', 'Brand_Jivi', 'Brand_Karbonn', 'Brand_LG', 'Brand_Lava', 'Brand_LeEco', 'Brand_Lenovo', 'Brand_Lephone', 'Brand_Lyf', 'Brand_Meizu', 'Brand_Micromax', 'Brand_Mobiistar', 'Brand_Moto', 'Brand_Motorola', 'Brand_Nokia', 'Brand_Nubia', 'Brand_OPPO', 'Brand_OnePlus', 'Brand_Oppo', 'Brand_Panasonic', 'Brand_Razer', 'Brand_Realme', 'Brand_Reliance', 'Brand_Samsung', 'Brand_Sony', 'Brand_Spice', 'Brand_Tecno', 'Brand_Ulefone', 'Brand_VOTO', 'Brand_Vivo', 'Brand_Xiaomi', 'Brand_Xiaomi Poco', 'Brand_Yu', 'Brand_iVooMi', 'os_name_Android', 'os_name_Blackberry', 'os_name_KAI', 'os_name_Nokia', 'os_name_Other', 'os_name_Tizen', 'os_name_iOS', 'Num_cores_312', 'Num_cores_Deca', 'Num_cores_Dual', 'Num_cores_Hexa', 'Num_cores_Octa', 'Num_cores_Other', 'Num_cores_Quad', 'Num_cores_Tru-Octa', 'SIM Slot(s)_Dual SIM, GSM+CDMA', 'SIM Slot(s)_Dual SIM, GSM+GSM', 'SIM Slot(s)_Dual SIM, GSM+GSM, Dual VoLTE', 'SIM Slot(s)_Single SIM, GSM']\n"
          ],
          "name": "stdout"
        }
      ]
    },
    {
      "metadata": {
        "id": "cV1h4EJXxMR-",
        "colab_type": "text"
      },
      "cell_type": "markdown",
      "source": [
        "# Binarise"
      ]
    },
    {
      "metadata": {
        "id": "C3egvOdmxOQ8",
        "colab_type": "code",
        "colab": {}
      },
      "cell_type": "code",
      "source": [
        "X_train_binarised=X_train.drop('PhoneId',axis=1)\n",
        "X_train_binarised = X_train_binarised.apply(pd.cut, bins=2, labels=[0,1])\n",
        "Y_train_binarised=Y_train.map(lambda x : 1 if x>=4 else 0)    #threshold is 4"
      ],
      "execution_count": 0,
      "outputs": []
    },
    {
      "metadata": {
        "id": "musCwneqxohT",
        "colab_type": "code",
        "colab": {}
      },
      "cell_type": "code",
      "source": [
        "print(X_train_binarised)\n",
        "print(Y_train_binarised)"
      ],
      "execution_count": 0,
      "outputs": []
    },
    {
      "metadata": {
        "id": "UJTERDJioFAN",
        "colab_type": "code",
        "colab": {}
      },
      "cell_type": "code",
      "source": [
        "train_new.groupby('Rating').mean()"
      ],
      "execution_count": 0,
      "outputs": []
    },
    {
      "metadata": {
        "id": "79U3zcPEN0vP",
        "colab_type": "text"
      },
      "cell_type": "markdown",
      "source": [
        "# convert into np array"
      ]
    },
    {
      "metadata": {
        "id": "d0OBNxUaN4YC",
        "colab_type": "code",
        "colab": {}
      },
      "cell_type": "code",
      "source": [
        "Y_train_binarised = Y_train_binarised.values\n",
        "X_train_binarised = X_train_binarised.values"
      ],
      "execution_count": 0,
      "outputs": []
    },
    {
      "metadata": {
        "id": "53GFqL21AYjr",
        "colab_type": "text"
      },
      "cell_type": "markdown",
      "source": [
        "# MP neuron model\n"
      ]
    },
    {
      "metadata": {
        "id": "ikTRUGwSSNYP",
        "colab_type": "code",
        "colab": {}
      },
      "cell_type": "code",
      "source": [
        "for b in range(X_train_binarised.shape[1]+1):\n",
        "  accurate_rows=0\n",
        "  for x,y in zip(X_train_binarised,Y_train_binarised):\n",
        "    y_pred=(np.sum(x)>=b)\n",
        "    if y_pred == y:\n",
        "      accurate_rows+=1\n",
        "  print(b,accurate_rows/X_train_binarised.shape[0])"
      ],
      "execution_count": 0,
      "outputs": []
    },
    {
      "metadata": {
        "id": "tzpM_iyBTNZ0",
        "colab_type": "code",
        "outputId": "6f011df7-7d1d-47b5-8f84-855134367209",
        "colab": {
          "base_uri": "https://localhost:8080/",
          "height": 34
        }
      },
      "cell_type": "code",
      "source": [
        "b=0\n",
        "max_accuracy=0\n",
        "for i in range(X_train_binarised.shape[1]+1):\n",
        "  accurate_rows=0\n",
        "  for x,y in zip(X_train_binarised,Y_train_binarised):\n",
        "    y_pred=(np.sum(x)>=i)\n",
        "    if y_pred == y:\n",
        "      accurate_rows+=1\n",
        "  accuracy=(accurate_rows/X_train_binarised.shape[0])\n",
        "  #print(accuracy)\n",
        "  if accuracy>max_accuracy:\n",
        "    max_accuracy=accuracy\n",
        "    b=i\n",
        "    \n",
        "print(b, max_accuracy)"
      ],
      "execution_count": 0,
      "outputs": [
        {
          "output_type": "stream",
          "text": [
            "8 0.7008797653958945\n"
          ],
          "name": "stdout"
        }
      ]
    },
    {
      "metadata": {
        "id": "vqN48gb1UsJw",
        "colab_type": "text"
      },
      "cell_type": "markdown",
      "source": [
        "# MP Neuron testing"
      ]
    },
    {
      "metadata": {
        "id": "2LWFcWReXEE4",
        "colab_type": "code",
        "colab": {}
      },
      "cell_type": "code",
      "source": [
        "test_new1=test_new.drop('PhoneId',axis=1)"
      ],
      "execution_count": 0,
      "outputs": []
    },
    {
      "metadata": {
        "id": "EqZ-QH_lZVPE",
        "colab_type": "code",
        "colab": {}
      },
      "cell_type": "code",
      "source": [
        "X_test_binarised = test_new1.apply(pd.cut, bins=2, labels=[0,1])\n"
      ],
      "execution_count": 0,
      "outputs": []
    },
    {
      "metadata": {
        "id": "NXwQD4UAka5F",
        "colab_type": "code",
        "colab": {}
      },
      "cell_type": "code",
      "source": [
        "print(X_test_binarised)"
      ],
      "execution_count": 0,
      "outputs": []
    },
    {
      "metadata": {
        "id": "YNyuLWEtXWOg",
        "colab_type": "code",
        "colab": {}
      },
      "cell_type": "code",
      "source": [
        "b=8\n",
        "y_test=[]\n",
        "for x,id in zip(X_test_binarised,test_ids):\n",
        "  \n",
        "  y_pred=int(np.sum(x)>=b)\n",
        "  print(id,np.sum(x),b, y_pred)\n",
        "  y_test.append(y_pred)"
      ],
      "execution_count": 0,
      "outputs": []
    },
    {
      "metadata": {
        "id": "QX0EQngYYlnf",
        "colab_type": "code",
        "colab": {}
      },
      "cell_type": "code",
      "source": [
        "submission = pd.DataFrame({'PhoneId':test_new['PhoneId'], 'Class':y_test})\n",
        "submission = submission[['PhoneId', 'Class']]"
      ],
      "execution_count": 0,
      "outputs": []
    },
    {
      "metadata": {
        "id": "R9E7y6MGb-UH",
        "colab_type": "code",
        "outputId": "96ed2428-e7ba-42c3-8d68-09a56f9f5992",
        "colab": {
          "base_uri": "https://localhost:8080/",
          "height": 69
        }
      },
      "cell_type": "code",
      "source": [
        "submission['Class'].value_counts()"
      ],
      "execution_count": 0,
      "outputs": [
        {
          "output_type": "execute_result",
          "data": {
            "text/plain": [
              "1    115\n",
              "0      4\n",
              "Name: Class, dtype: int64"
            ]
          },
          "metadata": {
            "tags": []
          },
          "execution_count": 114
        }
      ]
    },
    {
      "metadata": {
        "id": "AA5l_BEcaorl",
        "colab_type": "code",
        "colab": {}
      },
      "cell_type": "code",
      "source": [
        "print(submission)"
      ],
      "execution_count": 0,
      "outputs": []
    },
    {
      "metadata": {
        "id": "B3MW2F12cbB1",
        "colab_type": "code",
        "colab": {}
      },
      "cell_type": "code",
      "source": [
        "submission.to_csv(\"submission.csv\", index=False)"
      ],
      "execution_count": 0,
      "outputs": []
    },
    {
      "metadata": {
        "id": "o1EsYuL8U-kT",
        "colab_type": "text"
      },
      "cell_type": "markdown",
      "source": [
        "# Preceptron"
      ]
    },
    {
      "metadata": {
        "id": "-GUl5XzbVDSd",
        "colab_type": "code",
        "colab": {}
      },
      "cell_type": "code",
      "source": [
        "\"\"\"\n",
        "WiXi>=0 i=0 to n\n",
        "\n",
        "for x in X_train:\n",
        "if wixi<0 and y=1\n",
        "w=w+x \n",
        "b=b-1\n",
        "\n",
        "if wixi>=0 and y==0\n",
        "w=w-x\n",
        "b=b+1\n",
        "\n",
        "learning rate\n",
        "\n",
        "epoch\n",
        "\n",
        "input- real\n",
        "\n",
        "output- binarized\n",
        "\"\"\""
      ],
      "execution_count": 0,
      "outputs": []
    },
    {
      "metadata": {
        "id": "pOb5iNuazwS7",
        "colab_type": "text"
      },
      "cell_type": "markdown",
      "source": [
        "# Input"
      ]
    },
    {
      "metadata": {
        "id": "08aouy261-Lc",
        "colab_type": "text"
      },
      "cell_type": "markdown",
      "source": [
        "## train test"
      ]
    },
    {
      "metadata": {
        "id": "Ht8r6Z-vz8BJ",
        "colab_type": "code",
        "colab": {}
      },
      "cell_type": "code",
      "source": [
        "X_train_per=X_train.drop('PhoneId',axis=1)\n",
        "Y_train_per=Y_train.map(lambda x: 1 if x>=4 else 0)"
      ],
      "execution_count": 0,
      "outputs": []
    },
    {
      "metadata": {
        "id": "RPSCqP4a42g8",
        "colab_type": "code",
        "colab": {}
      },
      "cell_type": "code",
      "source": [
        "X_train_per=X_train_per.values\n",
        "Y_train_per=Y_train_per.values"
      ],
      "execution_count": 0,
      "outputs": []
    },
    {
      "metadata": {
        "id": "E8Yn4Aw32CGU",
        "colab_type": "text"
      },
      "cell_type": "markdown",
      "source": [
        "## wt matrix"
      ]
    },
    {
      "metadata": {
        "id": "-3a36Sk50L_g",
        "colab_type": "code",
        "colab": {}
      },
      "cell_type": "code",
      "source": [
        "w=np.ones(X_train_per.shape[1])"
      ],
      "execution_count": 0,
      "outputs": []
    },
    {
      "metadata": {
        "id": "j5Do8szw2np3",
        "colab_type": "text"
      },
      "cell_type": "markdown",
      "source": [
        "# model, algo"
      ]
    },
    {
      "metadata": {
        "id": "M90dqsvN18PX",
        "colab_type": "code",
        "outputId": "5ba4a698-aae2-402a-bfcf-5817f489ce3f",
        "colab": {
          "base_uri": "https://localhost:8080/",
          "height": 52
        }
      },
      "cell_type": "code",
      "source": [
        "b=0\n",
        "for x,y in zip(X_train_per,Y_train_per):\n",
        "  \n",
        "  y_pred=np.dot(x,w)\n",
        "  \n",
        "  if y_pred<b and y==1:\n",
        "    w = w + x \n",
        "    b = b - 1\n",
        "  \n",
        "  \n",
        "  elif y_pred>=b and y==0:\n",
        "    w = w - x\n",
        "    b = b + 1\n",
        "    \n",
        "    \n",
        "print(b)\n",
        "\n",
        "y_train_pred=[]\n",
        "\n",
        "\n",
        "for x,y in zip(X_train_per,Y_train_per):\n",
        " \n",
        "  y_pred=int(np.dot(w,x)>=b)\n",
        "  \n",
        "  y_train_pred.append(y_pred)\n",
        "  \n",
        "  \n",
        "    \n",
        "    \n",
        "print(accuracy_score(y_train_per,Y_train_per))"
      ],
      "execution_count": 0,
      "outputs": [
        {
          "output_type": "stream",
          "text": [
            "1\n",
            "0.6979472140762464\n"
          ],
          "name": "stdout"
        }
      ]
    },
    {
      "metadata": {
        "id": "HWoRxrdE7n0I",
        "colab_type": "text"
      },
      "cell_type": "markdown",
      "source": [
        "## with epoch"
      ]
    },
    {
      "metadata": {
        "id": "Te1DkVpl7tJJ",
        "colab_type": "code",
        "outputId": "03a8a8cd-7957-4afc-be6a-3765efb7c740",
        "colab": {
          "base_uri": "https://localhost:8080/",
          "height": 52
        }
      },
      "cell_type": "code",
      "source": [
        "b=0\n",
        "w=np.ones(X_train.shape[1])\n",
        "max_accuaracy=0\n",
        "for epoch in range(1050):\n",
        "  for x,y in zip(X_train_per,Y_train_per):\n",
        "\n",
        "    y_pred=np.dot(x,w)\n",
        "\n",
        "    if y_pred<b and y==1:\n",
        "      w = w + x \n",
        "      b = b - 1\n",
        "\n",
        "\n",
        "    elif y_pred>=b and y==0:\n",
        "      w = w - x\n",
        "      b = b + 1\n",
        "\n",
        "      \n",
        "  y_train_pred=[]\n",
        "\n",
        "\n",
        "  for x,y in zip(X_train_per,Y_train_per):\n",
        "\n",
        "    y_pred=int(np.dot(w,x)>=b)\n",
        "\n",
        "    y_train_pred.append(y_pred)\n",
        "\n",
        "\n",
        "\n",
        "  accuracy=accuracy_score(y_train_pred,Y_train_per)\n",
        "  if accuracy>max_accuracy:\n",
        "    max_accuracy=accuracy\n",
        "    final_b=b\n",
        "    \n",
        "    \n",
        "print(max_accuracy,b)\n",
        "\n",
        "\n",
        "\"\"\"\n",
        "150 0.7360703812316716 -69\n",
        "1000 0.7565982404692082 -713\n",
        "1050 0.7595307917888563 -1795\n",
        "1000 0.7595307917888563 -713\n",
        "1000 0.7565982404692082 -772\n",
        "\"\"\""
      ],
      "execution_count": 0,
      "outputs": [
        {
          "output_type": "stream",
          "text": [
            "0.7595307917888563 -1795\n"
          ],
          "name": "stdout"
        },
        {
          "output_type": "execute_result",
          "data": {
            "text/plain": [
              "'\\n150 0.7360703812316716 -69\\n1000 0.7565982404692082 -713\\n\\n'"
            ]
          },
          "metadata": {
            "tags": []
          },
          "execution_count": 138
        }
      ]
    },
    {
      "metadata": {
        "id": "dy5XDzn8-1lv",
        "colab_type": "text"
      },
      "cell_type": "markdown",
      "source": [
        "## with learning rate"
      ]
    },
    {
      "metadata": {
        "id": "tIAh0Qyl-5gD",
        "colab_type": "code",
        "colab": {}
      },
      "cell_type": "code",
      "source": [
        "def my_perceptron(X,Y,b=0,lr=1,e=1):\n",
        "  w=np.ones(X.shape[1])\n",
        "  max_accuracy=0\n",
        "  for epoch in range(e):\n",
        "    for x,y in zip(X,Y):\n",
        "\n",
        "      y_pred=np.dot(x,w)\n",
        "\n",
        "      if y_pred<b and y==1:\n",
        "        w = w + x*lr\n",
        "        b = b - 1*lr\n",
        "\n",
        "\n",
        "      elif y_pred>=b and y==0:\n",
        "        w = w - x*lr\n",
        "        b = b + 1*lr\n",
        "\n",
        "\n",
        "    y_train_pred=[]\n",
        "\n",
        "\n",
        "    for x,y in zip(X,Y):\n",
        "\n",
        "      y_pred=int(np.dot(w,x)>=b)\n",
        "\n",
        "      y_train_pred.append(y_pred)\n",
        "\n",
        "\n",
        "\n",
        "    accuracy=accuracy_score(y_train_pred,Y_train_per)\n",
        "    if accuracy>max_accuracy:\n",
        "      max_accuracy=accuracy\n",
        "      final_b=b\n",
        "\n",
        "\n",
        "  return max_accuracy,b"
      ],
      "execution_count": 0,
      "outputs": []
    },
    {
      "metadata": {
        "id": "FzhxNl3aBIKC",
        "colab_type": "code",
        "outputId": "14dd55e6-9575-4559-df7e-a4ba203ab2dc",
        "colab": {
          "base_uri": "https://localhost:8080/",
          "height": 52
        }
      },
      "cell_type": "code",
      "source": [
        "accuracy,b = my_perceptron(X_train_per,Y_train_per,0,1,80)\n",
        "print(accuracy,b)\n",
        "\n",
        "\n",
        "\"\"\"\n",
        "0,0.2,1000 75.66          epoch=1000,700,600,500,400,300,200,180   l=.2,.9,1\n",
        "0.7565982404692082 -41    0,1,80\n",
        "\n",
        "\"\"\""
      ],
      "execution_count": 0,
      "outputs": [
        {
          "output_type": "stream",
          "text": [
            "0.7565982404692082 -41\n"
          ],
          "name": "stdout"
        },
        {
          "output_type": "execute_result",
          "data": {
            "text/plain": [
              "'\\n0,0.2,1000 75.66          epoch=1000,700,600,500,400,300,200,180   l=.2,.9,1\\n\\n'"
            ]
          },
          "metadata": {
            "tags": []
          },
          "execution_count": 222
        }
      ]
    },
    {
      "metadata": {
        "id": "Of03QwMe__AL",
        "colab_type": "text"
      },
      "cell_type": "markdown",
      "source": [
        "# Testing"
      ]
    },
    {
      "metadata": {
        "id": "GfCu9au6ACYu",
        "colab_type": "code",
        "colab": {}
      },
      "cell_type": "code",
      "source": [
        "test_per=test_new.drop('PhoneId',axis=1)"
      ],
      "execution_count": 0,
      "outputs": []
    },
    {
      "metadata": {
        "id": "54grpUOoGG43",
        "colab_type": "code",
        "colab": {}
      },
      "cell_type": "code",
      "source": [
        "test_per=test_per.values"
      ],
      "execution_count": 0,
      "outputs": []
    },
    {
      "metadata": {
        "id": "axoTRYCVGLKG",
        "colab_type": "code",
        "colab": {}
      },
      "cell_type": "code",
      "source": [
        "def predict(X,b):\n",
        "  y_train_pred=[]\n",
        "  for x in X:\n",
        "\n",
        "      y_pred=int(np.dot(w,x)>=b)\n",
        "\n",
        "      y_train_pred.append(y_pred)\n",
        "      \n",
        "  return y_train_pred \n",
        "\n"
      ],
      "execution_count": 0,
      "outputs": []
    },
    {
      "metadata": {
        "id": "PpvlK5apGngV",
        "colab_type": "code",
        "colab": {}
      },
      "cell_type": "code",
      "source": [
        "y_test=predict(test_per,41)"
      ],
      "execution_count": 0,
      "outputs": []
    },
    {
      "metadata": {
        "id": "mP4DbxRqHY77",
        "colab_type": "code",
        "colab": {}
      },
      "cell_type": "code",
      "source": [
        "submission = pd.DataFrame({'PhoneId':test_new['PhoneId'], 'Class':y_test})\n",
        "submission = submission[['PhoneId', 'Class']]"
      ],
      "execution_count": 0,
      "outputs": []
    },
    {
      "metadata": {
        "id": "c_wI1-22Hofj",
        "colab_type": "code",
        "outputId": "debacff5-1271-4cd7-cf2d-378f7e267460",
        "colab": {
          "base_uri": "https://localhost:8080/",
          "height": 52
        }
      },
      "cell_type": "code",
      "source": [
        "submission['Class'].value_counts()"
      ],
      "execution_count": 0,
      "outputs": [
        {
          "output_type": "execute_result",
          "data": {
            "text/plain": [
              "1    119\n",
              "Name: Class, dtype: int64"
            ]
          },
          "metadata": {
            "tags": []
          },
          "execution_count": 229
        }
      ]
    },
    {
      "metadata": {
        "id": "NpW96DpGHsz0",
        "colab_type": "code",
        "colab": {}
      },
      "cell_type": "code",
      "source": [
        "submission.to_csv(\"submission-preceptron.csv\", index=False)"
      ],
      "execution_count": 0,
      "outputs": []
    },
    {
      "metadata": {
        "id": "5p51-N8-PGqV",
        "colab_type": "text"
      },
      "cell_type": "markdown",
      "source": [
        "# Dummy Solution"
      ]
    },
    {
      "metadata": {
        "id": "qkyyxY08PGqb",
        "colab_type": "code",
        "outputId": "6ee8eec1-13c7-43f5-9552-40c9cea3b4ee",
        "colab": {
          "base_uri": "https://localhost:8080/",
          "height": 206
        }
      },
      "cell_type": "code",
      "source": [
        "submission = pd.DataFrame({'PhoneId':test_new['PhoneId'], 'Class':[0]*test_new.shape[0]})\n",
        "submission = submission[['PhoneId', 'Class']]\n",
        "submission.head()"
      ],
      "execution_count": 0,
      "outputs": [
        {
          "output_type": "execute_result",
          "data": {
            "text/html": [
              "<div>\n",
              "<style scoped>\n",
              "    .dataframe tbody tr th:only-of-type {\n",
              "        vertical-align: middle;\n",
              "    }\n",
              "\n",
              "    .dataframe tbody tr th {\n",
              "        vertical-align: top;\n",
              "    }\n",
              "\n",
              "    .dataframe thead th {\n",
              "        text-align: right;\n",
              "    }\n",
              "</style>\n",
              "<table border=\"1\" class=\"dataframe\">\n",
              "  <thead>\n",
              "    <tr style=\"text-align: right;\">\n",
              "      <th></th>\n",
              "      <th>PhoneId</th>\n",
              "      <th>Class</th>\n",
              "    </tr>\n",
              "  </thead>\n",
              "  <tbody>\n",
              "    <tr>\n",
              "      <th>0</th>\n",
              "      <td>3</td>\n",
              "      <td>0</td>\n",
              "    </tr>\n",
              "    <tr>\n",
              "      <th>1</th>\n",
              "      <td>11</td>\n",
              "      <td>0</td>\n",
              "    </tr>\n",
              "    <tr>\n",
              "      <th>2</th>\n",
              "      <td>13</td>\n",
              "      <td>0</td>\n",
              "    </tr>\n",
              "    <tr>\n",
              "      <th>3</th>\n",
              "      <td>16</td>\n",
              "      <td>0</td>\n",
              "    </tr>\n",
              "    <tr>\n",
              "      <th>4</th>\n",
              "      <td>19</td>\n",
              "      <td>0</td>\n",
              "    </tr>\n",
              "  </tbody>\n",
              "</table>\n",
              "</div>"
            ],
            "text/plain": [
              "   PhoneId  Class\n",
              "0        3      0\n",
              "1       11      0\n",
              "2       13      0\n",
              "3       16      0\n",
              "4       19      0"
            ]
          },
          "metadata": {
            "tags": []
          },
          "execution_count": 120
        }
      ]
    },
    {
      "metadata": {
        "id": "wXJT7GLoPGqn",
        "colab_type": "code",
        "colab": {}
      },
      "cell_type": "code",
      "source": [
        "submission.to_csv(\"submission.csv\", index=False)"
      ],
      "execution_count": 0,
      "outputs": []
    },
    {
      "metadata": {
        "id": "BNYJotQqPGq3",
        "colab_type": "code",
        "outputId": "75b79aed-533c-48de-9c43-2100b09bcf84",
        "colab": {
          "base_uri": "https://localhost:8080/",
          "height": 550
        }
      },
      "cell_type": "code",
      "source": [
        "\"\"\"\n",
        "WRITE YOUR MODELLING CODE HERE\n",
        "\n",
        "\n",
        "\n",
        "\n",
        "what i have\n",
        "\n",
        "train data stored in train_new    has rating parameter\n",
        "test data stored in test_new      doesn't have rating parameter\n",
        "\n",
        "what i have to do\n",
        "predict whether the phone will be liked   \n",
        "\n",
        "\n",
        "which parameter decides - rating\n",
        "if rating is > than a threshold, phone is liked\n",
        "\n",
        "so, i have to decide that which parameter cause what type of rating\n",
        "\n",
        "\n",
        "model\n",
        "mp neuron\n",
        "input- 0 or 1 format\n",
        "output- 0 or 1 format\n",
        "\n",
        "learning\n",
        "𝑦=1,if ∑𝑖 𝑥𝑖>=𝑏\n",
        "\n",
        "𝑦=0,otherwise\n",
        "\n",
        "learn b.\n",
        "1 0 0 1 0 1      1\n",
        "1 0 1 0 1 0      0\n",
        "\n",
        "\n",
        "\n",
        "step one\n",
        "binarize the inputs\n",
        "\n",
        "\"\"\"\n",
        "\n",
        "plt.plot(train_new.T,'*')\n",
        "plt.xticks(rotation='vertical')     #rotates th names on x-axis vertically\n",
        "\n",
        "plt.show()\n",
        "#print(train_new)"
      ],
      "execution_count": 0,
      "outputs": [
        {
          "output_type": "display_data",
          "data": {
            "image/png": "[encoded data removed]",
            "text/plain": [
              "<Figure size 576x396 with 1 Axes>"
            ]
          },
          "metadata": {
            "tags": []
          }
        }
      ]
    }
  ]
}